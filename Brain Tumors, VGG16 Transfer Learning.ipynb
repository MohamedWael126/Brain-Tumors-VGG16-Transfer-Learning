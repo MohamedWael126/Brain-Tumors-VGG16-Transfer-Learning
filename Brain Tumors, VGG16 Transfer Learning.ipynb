{
 "cells": [
  {
   "cell_type": "markdown",
   "id": "67ec0692",
   "metadata": {},
   "source": [
    "### Importing the modules"
   ]
  },
  {
   "cell_type": "code",
   "execution_count": 1,
   "id": "9c4ff973",
   "metadata": {},
   "outputs": [],
   "source": [
    "import numpy as np\n",
    "import matplotlib.pyplot as plt\n",
    "import tensorflow as tf\n",
    "import keras\n",
    "from tensorflow.keras import layers\n",
    "import cv2\n",
    "import os\n",
    "import random\n",
    "from tensorflow.keras.preprocessing.image import ImageDataGenerator\n",
    "from tensorflow.keras.models import Sequential\n",
    "from tensorflow.keras.utils import image_dataset_from_directory\n",
    "from tensorflow.keras.layers.experimental import preprocessing\n",
    "\n",
    "\n",
    "\n"
   ]
  },
  {
   "cell_type": "code",
   "execution_count": 2,
   "id": "573b1542",
   "metadata": {},
   "outputs": [
    {
     "name": "stdout",
     "output_type": "stream",
     "text": [
      "Num GPUs Available:  1\n"
     ]
    }
   ],
   "source": [
    "print(\"Num GPUs Available: \", len(tf.config.list_physical_devices('GPU')))"
   ]
  },
  {
   "cell_type": "code",
   "execution_count": 3,
   "id": "6c8cecab",
   "metadata": {},
   "outputs": [
    {
     "name": "stdout",
     "output_type": "stream",
     "text": [
      "D:\\Programming\\ML\\Datasets\\brain tumor MRI images\\brain tumor MRI images\\Data\\train\n",
      "D:\\Programming\\ML\\Datasets\\brain tumor MRI images\\brain tumor MRI images\\Data\\val\n",
      "D:\\Programming\\ML\\Datasets\\brain tumor MRI images\\brain tumor MRI images\\Data\\test\n"
     ]
    }
   ],
   "source": [
    "data_folder= r'D:\\Programming\\ML\\Datasets\\brain tumor MRI images\\brain tumor MRI images\\Data'\n",
    "\n",
    "\n",
    "train_path = data_folder + '\\\\train'\n",
    "val_path   = data_folder + '\\\\val'\n",
    "test_path  = data_folder + '\\\\test'\n",
    "\n",
    "\n",
    "print(train_path)\n",
    "print(val_path)\n",
    "print(test_path)"
   ]
  },
  {
   "cell_type": "code",
   "execution_count": 17,
   "id": "832268fc",
   "metadata": {},
   "outputs": [
    {
     "name": "stdout",
     "output_type": "stream",
     "text": [
      "Found 14716 files belonging to 3 classes.\n",
      "Found 828 files belonging to 3 classes.\n",
      "Found 3682 files belonging to 3 classes.\n"
     ]
    }
   ],
   "source": [
    "IMG_SIZE= (224, 224)\n",
    "\n",
    "train_data = image_dataset_from_directory(directory= train_path,\n",
    "                                        image_size= IMG_SIZE,\n",
    "                                        label_mode=\"categorical\",\n",
    "                                        batch_size=32,\n",
    "                                        shuffle=True)\n",
    "\n",
    "\n",
    "\n",
    "\n",
    "val_data = image_dataset_from_directory(directory= val_path,\n",
    "                                        image_size= IMG_SIZE,\n",
    "                                        label_mode=\"categorical\",\n",
    "                                        batch_size=32,\n",
    "                                        shuffle=True)\n",
    "\n",
    "\n",
    "\n",
    "test_data = image_dataset_from_directory(directory= test_path,\n",
    "                                         image_size= IMG_SIZE,\n",
    "                                         label_mode=\"categorical\",\n",
    "                                         batch_size=32,\n",
    "                                         shuffle=False)"
   ]
  },
  {
   "cell_type": "code",
   "execution_count": 18,
   "id": "991e7e61",
   "metadata": {},
   "outputs": [
    {
     "data": {
      "text/plain": [
       "['Glioma', 'Meningioma', 'Pituitary tumor']"
      ]
     },
     "execution_count": 18,
     "metadata": {},
     "output_type": "execute_result"
    }
   ],
   "source": [
    "class_names = train_data.class_names\n",
    "\n",
    "class_names"
   ]
  },
  {
   "cell_type": "code",
   "execution_count": 19,
   "id": "c6b80099",
   "metadata": {},
   "outputs": [],
   "source": [
    "AUTOTUNE = tf.data.AUTOTUNE\n",
    "\n",
    "train_data = train_data.prefetch(buffer_size=AUTOTUNE)\n",
    "val_data = val_data.prefetch(buffer_size=AUTOTUNE)\n",
    "test_data = test_data.prefetch(buffer_size=AUTOTUNE)"
   ]
  },
  {
   "cell_type": "markdown",
   "id": "45e3a770",
   "metadata": {},
   "source": [
    "### Transfer learning with VGG16."
   ]
  },
  {
   "cell_type": "code",
   "execution_count": 32,
   "id": "12821bb1",
   "metadata": {},
   "outputs": [],
   "source": [
    "base_model = tf.keras.applications.VGG16(input_shape=(224,224,3),\n",
    "                                               include_top=False,\n",
    "                                               weights='imagenet')\n",
    "\n",
    "base_model.trainable = False"
   ]
  },
  {
   "cell_type": "code",
   "execution_count": 33,
   "id": "fa1a1b25",
   "metadata": {},
   "outputs": [],
   "source": [
    "data_augmentation = keras.Sequential([\n",
    "  preprocessing.RandomFlip(\"horizontal\"),\n",
    "  preprocessing.RandomRotation(0.2),\n",
    "  preprocessing.RandomZoom(0.2),\n",
    "  preprocessing.RandomHeight(0.2),\n",
    "  preprocessing.RandomWidth(0.2),\n",
    "   preprocessing.Rescaling(1./255)\n",
    "], name =\"data_augmentation\")"
   ]
  },
  {
   "cell_type": "code",
   "execution_count": null,
   "id": "dd3a9049",
   "metadata": {},
   "outputs": [],
   "source": []
  },
  {
   "cell_type": "code",
   "execution_count": 34,
   "id": "5da2985d",
   "metadata": {},
   "outputs": [],
   "source": [
    "inputs = layers.Input(shape=(224 , 224 , 3) , name='Input layer')\n",
    "\n",
    "x = data_augmentation(inputs)\n",
    "x =  base_model(x , training = False)\n",
    "x =  layers.GlobalAveragePooling2D(name= \"GlobalAveragePooling2D\")(x)\n",
    "\n",
    "x =  layers.Dense(128,activation='relu')(x)\n",
    "x =  layers.Dropout(0.2)(x)\n",
    "\n",
    "\n",
    "x =  layers.Dense(32,activation='relu')(x)\n",
    "x =  layers.Dropout(0.2)(x)\n",
    "outputs = layers.Dense(3 , activation='softmax')(x)\n",
    "\n",
    "model = tf.keras.models.Model(inputs , outputs)"
   ]
  },
  {
   "cell_type": "code",
   "execution_count": 35,
   "id": "c2e3e37b",
   "metadata": {},
   "outputs": [
    {
     "name": "stdout",
     "output_type": "stream",
     "text": [
      "Model: \"model_1\"\n",
      "_________________________________________________________________\n",
      " Layer (type)                Output Shape              Param #   \n",
      "=================================================================\n",
      " Input layer (InputLayer)    [(None, 224, 224, 3)]     0         \n",
      "                                                                 \n",
      " data_augmentation (Sequenti  (None, 224, 224, 3)      0         \n",
      " al)                                                             \n",
      "                                                                 \n",
      " vgg16 (Functional)          (None, 7, 7, 512)         14714688  \n",
      "                                                                 \n",
      " GlobalAveragePooling2D (Glo  (None, 512)              0         \n",
      " balAveragePooling2D)                                            \n",
      "                                                                 \n",
      " dense_5 (Dense)             (None, 128)               65664     \n",
      "                                                                 \n",
      " dropout_4 (Dropout)         (None, 128)               0         \n",
      "                                                                 \n",
      " dense_6 (Dense)             (None, 32)                4128      \n",
      "                                                                 \n",
      " dropout_5 (Dropout)         (None, 32)                0         \n",
      "                                                                 \n",
      " dense_7 (Dense)             (None, 3)                 99        \n",
      "                                                                 \n",
      "=================================================================\n",
      "Total params: 14,784,579\n",
      "Trainable params: 69,891\n",
      "Non-trainable params: 14,714,688\n",
      "_________________________________________________________________\n"
     ]
    }
   ],
   "source": [
    "model.summary()"
   ]
  },
  {
   "cell_type": "code",
   "execution_count": 36,
   "id": "700559ec",
   "metadata": {},
   "outputs": [],
   "source": [
    "model.compile(loss=tf.keras.losses.CategoricalCrossentropy(),\n",
    "            optimizer=\"adam\",\n",
    "            metrics=['accuracy'])"
   ]
  },
  {
   "cell_type": "code",
   "execution_count": 37,
   "id": "cbab13bd",
   "metadata": {},
   "outputs": [],
   "source": [
    "early_stop= tf.keras.callbacks.EarlyStopping(monitor='val_loss',patience=3)\n",
    "\n",
    "\n",
    "checkpoint_path = \"checkpoints_weights/checkpoint.ckpt\" \n",
    "\n",
    "# Create a ModelCheckpoint callback that saves the model's weights only\n",
    "checkpoint_callback = tf.keras.callbacks.ModelCheckpoint(filepath=checkpoint_path,\n",
    "                                                         save_weights_only=True, \n",
    "                                                         save_best_only=False,\n",
    "                                                         save_freq=\"epoch\",\n",
    "                                                         verbose=1)"
   ]
  },
  {
   "cell_type": "code",
   "execution_count": 38,
   "id": "94f0c0b2",
   "metadata": {},
   "outputs": [
    {
     "name": "stdout",
     "output_type": "stream",
     "text": [
      "Epoch 1/5\n",
      "460/460 [==============================] - 874s 2s/step - loss: 0.8379 - accuracy: 0.5984 - val_loss: 0.6132 - val_accuracy: 0.7597\n",
      "Epoch 2/5\n",
      "460/460 [==============================] - 672s 1s/step - loss: 0.6885 - accuracy: 0.6852 - val_loss: 0.5947 - val_accuracy: 0.7524\n",
      "Epoch 3/5\n",
      "460/460 [==============================] - 612s 1s/step - loss: 0.6398 - accuracy: 0.7100 - val_loss: 0.5656 - val_accuracy: 0.7766\n",
      "Epoch 4/5\n",
      "460/460 [==============================] - 612s 1s/step - loss: 0.6205 - accuracy: 0.7135 - val_loss: 0.4980 - val_accuracy: 0.7862\n",
      "Epoch 5/5\n",
      "460/460 [==============================] - 541s 1s/step - loss: 0.6124 - accuracy: 0.7202 - val_loss: 0.5306 - val_accuracy: 0.7766\n"
     ]
    }
   ],
   "source": [
    "import warnings\n",
    "\n",
    "warnings.filterwarnings('ignore')\n",
    "\n",
    "initial_epochs = 5\n",
    "\n",
    "history = model.fit(train_data ,\n",
    "                validation_data= val_data,\n",
    "                epochs=initial_epochs,\n",
    "                callbacks=[early_stop],\n",
    "                steps_per_epoch=len(train_data),\n",
    "                validation_steps=len(val_data) ) "
   ]
  },
  {
   "cell_type": "markdown",
   "id": "087380f1",
   "metadata": {},
   "source": [
    "### Transfer learning with fine-tuning:"
   ]
  },
  {
   "cell_type": "code",
   "execution_count": 102,
   "id": "3bcc6758",
   "metadata": {},
   "outputs": [],
   "source": [
    "base_model.trainable = True\n",
    "for layer in base_model.layers[:12]:\n",
    "    layer.trainable = False"
   ]
  },
  {
   "cell_type": "code",
   "execution_count": 103,
   "id": "90515cdd",
   "metadata": {},
   "outputs": [],
   "source": [
    "model.compile(optimizer=tf.keras.optimizers.Adam(1e-5),\n",
    "              loss=tf.keras.losses.CategoricalCrossentropy(),\n",
    "              metrics=['accuracy'])"
   ]
  },
  {
   "cell_type": "code",
   "execution_count": 39,
   "id": "6074228f",
   "metadata": {},
   "outputs": [
    {
     "name": "stdout",
     "output_type": "stream",
     "text": [
      "Epoch 5/9\n",
      "460/460 [==============================] - 536s 1s/step - loss: 0.5942 - accuracy: 0.7319 - val_loss: 0.4653 - val_accuracy: 0.7971\n",
      "Epoch 6/9\n",
      "460/460 [==============================] - 552s 1s/step - loss: 0.5890 - accuracy: 0.7360 - val_loss: 0.4722 - val_accuracy: 0.7923\n",
      "Epoch 7/9\n",
      "460/460 [==============================] - 531s 1s/step - loss: 0.5818 - accuracy: 0.7387 - val_loss: 0.5257 - val_accuracy: 0.7657\n",
      "Epoch 8/9\n",
      "460/460 [==============================] - 492s 1s/step - loss: 0.5651 - accuracy: 0.7465 - val_loss: 0.4984 - val_accuracy: 0.7814\n",
      "Epoch 9/9\n",
      "460/460 [==============================] - 458s 994ms/step - loss: 0.5638 - accuracy: 0.7441 - val_loss: 0.5556 - val_accuracy: 0.7597\n"
     ]
    }
   ],
   "source": [
    "es = tf.keras.callbacks.EarlyStopping(monitor='val_accuracy', patience=4, min_delta=0.001,restore_best_weights=True)\n",
    "\n",
    "cp = tf.keras.callbacks.ModelCheckpoint(filepath=\"ft_weights/checkpoints/cp-{epoch}.ckpt\",\n",
    "                                                 save_weights_only=True,\n",
    "                                                 verbose=0)\n",
    "\n",
    "best = tf.keras.callbacks.ModelCheckpoint(filepath=\"ft_weights/best/model_best_val_loss.ckpt\",\n",
    "                                         save_weights_only=True,\n",
    "                                         mointor=\"val_accuracy\",\n",
    "                                         save_best_only=True)\n",
    "fhistory = model.fit(train_data,\n",
    "                    epochs=history.epoch[-1]+5,\n",
    "                    validation_data=val_data,\n",
    "                    initial_epoch=history.epoch[-1],\n",
    "                    callbacks=[es,cp,best])\n",
    "\n",
    "model.save('ft_weights/models/vgg16_modified.h5')"
   ]
  },
  {
   "cell_type": "code",
   "execution_count": 105,
   "id": "363a4e91",
   "metadata": {},
   "outputs": [],
   "source": []
  },
  {
   "cell_type": "code",
   "execution_count": 40,
   "id": "dfbeb0be",
   "metadata": {},
   "outputs": [],
   "source": [
    "loss = history.history['loss'] + fhistory.history['loss']\n",
    "val_loss = history.history['val_loss'] + fhistory.history['val_loss']\n",
    "accuracy = history.history['accuracy'] + fhistory.history['accuracy']\n",
    "val_accuracy = history.history['val_accuracy'] + fhistory.history['val_accuracy']"
   ]
  },
  {
   "cell_type": "code",
   "execution_count": 41,
   "id": "a91ec5fe",
   "metadata": {},
   "outputs": [
    {
     "data": {
      "image/png": "[encoded data removed]",
      "text/plain": [
       "<Figure size 432x432 with 1 Axes>"
      ]
     },
     "metadata": {
      "needs_background": "light"
     },
     "output_type": "display_data"
    }
   ],
   "source": [
    "plt.figure(figsize=(6,6))\n",
    "plt.plot(loss,color='r',label='Training Error')\n",
    "plt.plot(val_loss, color='b',label='Validation Error')\n",
    "plt.legend()\n",
    "plt.show()"
   ]
  },
  {
   "cell_type": "code",
   "execution_count": 42,
   "id": "38298fb6",
   "metadata": {},
   "outputs": [
    {
     "data": {
      "image/png": "[encoded data removed]",
      "text/plain": [
       "<Figure size 432x432 with 1 Axes>"
      ]
     },
     "metadata": {
      "needs_background": "light"
     },
     "output_type": "display_data"
    }
   ],
   "source": [
    "plt.figure(figsize=(6,6))\n",
    "plt.plot(accuracy,color='r',label='Training Accuracy')\n",
    "plt.plot(val_accuracy, color='b',label='Validation Accuracy')\n",
    "plt.legend()\n",
    "plt.show()"
   ]
  },
  {
   "cell_type": "code",
   "execution_count": 44,
   "id": "d487302f",
   "metadata": {},
   "outputs": [
    {
     "name": "stdout",
     "output_type": "stream",
     "text": [
      "Loss on test set: 0.5513041019439697\n",
      "Accuracy on test set: 75.6111%\n"
     ]
    }
   ],
   "source": [
    "test_loss, test_accuracy = model.evaluate(test_data, verbose=0)\n",
    "print(\"Loss on test set: {}\".format(test_loss))\n",
    "print(\"Accuracy on test set: {:.4f}%\".format(test_accuracy*100))"
   ]
  },
  {
   "cell_type": "code",
   "execution_count": null,
   "id": "186a6b2d",
   "metadata": {},
   "outputs": [],
   "source": [
    "\n"
   ]
  }
 ],
 "metadata": {
  "kernelspec": {
   "display_name": "Python 3 (ipykernel)",
   "language": "python",
   "name": "python3"
  },
  "language_info": {
   "codemirror_mode": {
    "name": "ipython",
    "version": 3
   },
   "file_extension": ".py",
   "mimetype": "text/x-python",
   "name": "python",
   "nbconvert_exporter": "python",
   "pygments_lexer": "ipython3",
   "version": "3.9.12"
  }
 },
 "nbformat": 4,
 "nbformat_minor": 5
}
